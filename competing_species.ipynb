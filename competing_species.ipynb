{
 "cells": [
  {
   "cell_type": "code",
   "execution_count": 1,
   "outputs": [],
   "source": [
    "import matplotlib.pyplot as plt\n",
    "from random import *\n",
    "from numpy import *\n",
    "import sys"
   ],
   "metadata": {
    "collapsed": false,
    "pycharm": {
     "name": "#%%\n"
    }
   }
  },
  {
   "cell_type": "code",
   "execution_count": 2,
   "outputs": [],
   "source": [
    "# model parameters\n",
    "k1 = 0.5; k2 = 0.5; l1 = 10; l2 = 10; c1 = 0.5; c2 = 0.5;\n",
    "dt = 0.001; max_time = 100\n",
    "\n",
    "# initial time and populations\n",
    "t = 0; x = 1.0; y = 0.5\n",
    "\n",
    "# empty lists in which to store time and populations\n",
    "t_list = []; x_list = []; y_list = []\n",
    "\n",
    "# initialize lists\n",
    "t_list.append(t); x_list.append(x); y_list.append(y)\n",
    "\n",
    "while t < max_time:\n",
    "    # calc new values for t, x, y\n",
    "    t = t + dt\n",
    "    x = x + (k1*x*(1-x/l1) - c1*x*y)*dt\n",
    "    y = y + (k2*y*(1-y/l2) - c2*x*y)*dt\n",
    "\n",
    "    # store new values in lists\n",
    "    t_list.append(t)\n",
    "    x_list.append(x)\n",
    "    y_list.append(y)"
   ],
   "metadata": {
    "collapsed": false,
    "pycharm": {
     "name": "#%%\n"
    }
   }
  },
  {
   "cell_type": "code",
   "execution_count": 3,
   "outputs": [
    {
     "data": {
      "text/plain": "<Figure size 432x288 with 1 Axes>",
      "image/png": "[encoded data removed]"
     },
     "metadata": {
      "needs_background": "light"
     },
     "output_type": "display_data"
    }
   ],
   "source": [
    "plt.plot(t_list, x_list, 'r', t_list, y_list, 'g', linewidth = 2)\n",
    "plt.show()"
   ],
   "metadata": {
    "collapsed": false,
    "pycharm": {
     "name": "#%%\n"
    }
   }
  },
  {
   "cell_type": "code",
   "execution_count": 4,
   "outputs": [],
   "source": [
    "# model parameters\n",
    "k1 = 0.5; k2 = 0.5; l1 = 10; l2 = 10; c1 = 0.5; c2 = 0.5;\n",
    "dt = 0.001; max_time = 100\n",
    "\n",
    "# initial time and populations\n",
    "t = 0; x = 1.0; y = 0.5\n",
    "\n",
    "# empty lists in which to store time and populations\n",
    "t_list = []; x_list = []; y_list = []\n",
    "\n",
    "# initialize lists\n",
    "t_list.append(t); x_list.append(x); y_list.append(y)\n",
    "\n",
    "time_bomb_armed = True\n",
    "\n",
    "while t < max_time:\n",
    "    # calc new values for t, x, y\n",
    "    t = t + dt\n",
    "    x = x + (k1*x*(1-x/l1) - c1*x*y)*dt\n",
    "    y = y + (k2*y*(1-y/l2) - c2*x*y)*dt\n",
    "\n",
    "    if time_bomb_armed and t>53.5:\n",
    "        x = 0.5 * x\n",
    "        y = 0.5 * y\n",
    "        time_bomb_armed = False\n",
    "\n",
    "    # store new values in lists\n",
    "    t_list.append(t)\n",
    "    x_list.append(x)\n",
    "    y_list.append(y)"
   ],
   "metadata": {
    "collapsed": false,
    "pycharm": {
     "name": "#%%\n"
    }
   }
  },
  {
   "cell_type": "code",
   "execution_count": 5,
   "outputs": [
    {
     "data": {
      "text/plain": "<Figure size 432x288 with 1 Axes>",
      "image/png": "[encoded data removed]"
     },
     "metadata": {
      "needs_background": "light"
     },
     "output_type": "display_data"
    }
   ],
   "source": [
    "plt.plot(t_list, x_list, 'r', t_list, y_list, 'g', linewidth = 2)\n",
    "plt.show()"
   ],
   "metadata": {
    "collapsed": false,
    "pycharm": {
     "name": "#%%\n"
    }
   }
  },
  {
   "cell_type": "code",
   "execution_count": null,
   "outputs": [],
   "source": [],
   "metadata": {
    "collapsed": false,
    "pycharm": {
     "name": "#%%\n"
    }
   }
  }
 ],
 "metadata": {
  "kernelspec": {
   "display_name": "Python 3",
   "language": "python",
   "name": "python3"
  },
  "language_info": {
   "codemirror_mode": {
    "name": "ipython",
    "version": 2
   },
   "file_extension": ".py",
   "mimetype": "text/x-python",
   "name": "python",
   "nbconvert_exporter": "python",
   "pygments_lexer": "ipython2",
   "version": "2.7.6"
  }
 },
 "nbformat": 4,
 "nbformat_minor": 0
}